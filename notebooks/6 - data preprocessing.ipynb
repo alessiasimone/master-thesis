{
  "cells": [
    {
      "cell_type": "code",
      "execution_count": 1,
      "metadata": {
        "colab": {
          "base_uri": "https://localhost:8080/"
        },
        "id": "ZN2Vw_mJlKgN",
        "outputId": "8a8e5419-77b8-487d-98a2-7be4878aaf9a"
      },
      "outputs": [
        {
          "name": "stdout",
          "output_type": "stream",
          "text": [
            "Collecting pyts\n",
            "  Downloading pyts-0.13.0-py3-none-any.whl (2.5 MB)\n",
            "\u001b[2K     \u001b[90m━━━━━━━━━━━━━━━━━━━━━━━━━━━━━━━━━━━━━━━━\u001b[0m \u001b[32m2.5/2.5 MB\u001b[0m \u001b[31m9.6 MB/s\u001b[0m eta \u001b[36m0:00:00\u001b[0m\n",
            "\u001b[?25hRequirement already satisfied: numpy>=1.22.4 in /usr/local/lib/python3.10/dist-packages (from pyts) (1.23.5)\n",
            "Requirement already satisfied: scipy>=1.8.1 in /usr/local/lib/python3.10/dist-packages (from pyts) (1.10.1)\n",
            "Requirement already satisfied: scikit-learn>=1.2.0 in /usr/local/lib/python3.10/dist-packages (from pyts) (1.2.2)\n",
            "Requirement already satisfied: joblib>=1.1.1 in /usr/local/lib/python3.10/dist-packages (from pyts) (1.3.1)\n",
            "Requirement already satisfied: numba>=0.55.2 in /usr/local/lib/python3.10/dist-packages (from pyts) (0.56.4)\n",
            "Requirement already satisfied: llvmlite<0.40,>=0.39.0dev0 in /usr/local/lib/python3.10/dist-packages (from numba>=0.55.2->pyts) (0.39.1)\n",
            "Requirement already satisfied: setuptools in /usr/local/lib/python3.10/dist-packages (from numba>=0.55.2->pyts) (67.7.2)\n",
            "Requirement already satisfied: threadpoolctl>=2.0.0 in /usr/local/lib/python3.10/dist-packages (from scikit-learn>=1.2.0->pyts) (3.2.0)\n",
            "Installing collected packages: pyts\n",
            "Successfully installed pyts-0.13.0\n"
          ]
        }
      ],
      "source": [
        "!pip install pyts"
      ]
    },
    {
      "cell_type": "code",
      "execution_count": 7,
      "metadata": {
        "id": "sFpjAKghhCe2"
      },
      "outputs": [],
      "source": [
        "import os\n",
        "import pandas as pd\n",
        "import numpy as np\n",
        "from PIL import Image\n",
        "import matplotlib.pyplot as plt\n",
        "from pyts.image import GramianAngularField\n",
        "from sklearn.preprocessing import MinMaxScaler\n",
        "np.random.seed(46)\n",
        "path = 'C:/Users/aless/OneDrive - Università degli Studi di Catania/tesi/dataset/final_df.csv'"
      ]
    },
    {
      "cell_type": "code",
      "execution_count": 9,
      "metadata": {
        "colab": {
          "base_uri": "https://localhost:8080/",
          "height": 206
        },
        "id": "xEH5-NG3iu-T",
        "outputId": "fe655236-d38d-4836-ff09-662b0d2e9516"
      },
      "outputs": [
        {
          "data": {
            "text/html": [
              "<div>\n",
              "<style scoped>\n",
              "    .dataframe tbody tr th:only-of-type {\n",
              "        vertical-align: middle;\n",
              "    }\n",
              "\n",
              "    .dataframe tbody tr th {\n",
              "        vertical-align: top;\n",
              "    }\n",
              "\n",
              "    .dataframe thead th {\n",
              "        text-align: right;\n",
              "    }\n",
              "</style>\n",
              "<table border=\"1\" class=\"dataframe\">\n",
              "  <thead>\n",
              "    <tr style=\"text-align: right;\">\n",
              "      <th></th>\n",
              "      <th>ID</th>\n",
              "      <th>hr</th>\n",
              "      <th>temp</th>\n",
              "      <th>labels</th>\n",
              "    </tr>\n",
              "  </thead>\n",
              "  <tbody>\n",
              "    <tr>\n",
              "      <th>420</th>\n",
              "      <td>0</td>\n",
              "      <td>75.563333</td>\n",
              "      <td>35.447233</td>\n",
              "      <td>0</td>\n",
              "    </tr>\n",
              "    <tr>\n",
              "      <th>421</th>\n",
              "      <td>0</td>\n",
              "      <td>75.570000</td>\n",
              "      <td>35.549821</td>\n",
              "      <td>0</td>\n",
              "    </tr>\n",
              "    <tr>\n",
              "      <th>422</th>\n",
              "      <td>0</td>\n",
              "      <td>75.573333</td>\n",
              "      <td>35.449041</td>\n",
              "      <td>0</td>\n",
              "    </tr>\n",
              "    <tr>\n",
              "      <th>423</th>\n",
              "      <td>0</td>\n",
              "      <td>75.593333</td>\n",
              "      <td>35.543187</td>\n",
              "      <td>0</td>\n",
              "    </tr>\n",
              "    <tr>\n",
              "      <th>424</th>\n",
              "      <td>0</td>\n",
              "      <td>75.643333</td>\n",
              "      <td>35.443003</td>\n",
              "      <td>0</td>\n",
              "    </tr>\n",
              "  </tbody>\n",
              "</table>\n",
              "</div>"
            ],
            "text/plain": [
              "     ID         hr       temp  labels\n",
              "420   0  75.563333  35.447233       0\n",
              "421   0  75.570000  35.549821       0\n",
              "422   0  75.573333  35.449041       0\n",
              "423   0  75.593333  35.543187       0\n",
              "424   0  75.643333  35.443003       0"
            ]
          },
          "execution_count": 9,
          "metadata": {},
          "output_type": "execute_result"
        }
      ],
      "source": [
        "df = pd.read_csv(path)\n",
        "protocol_states = ['Base', 'TSST']\n",
        "df = df[df['labels'].isin(protocol_states)]\n",
        "mapping_dict = {'Base': 0,\n",
        "                'TSST': 1}\n",
        "df['labels'] = df['labels'].map(mapping_dict)\n",
        "ID = df['ID'].reset_index(drop=True) #store id column for later usage\n",
        "df.drop(['Time'], inplace=True, axis = 1)\n",
        "df.head()"
      ]
    },
    {
      "cell_type": "code",
      "execution_count": 11,
      "metadata": {
        "colab": {
          "base_uri": "https://localhost:8080/",
          "height": 206
        },
        "id": "kbKNGVuSl7-_",
        "outputId": "89b4bcbc-2466-4c06-c263-0ffaa8e6c698"
      },
      "outputs": [
        {
          "data": {
            "text/html": [
              "<div>\n",
              "<style scoped>\n",
              "    .dataframe tbody tr th:only-of-type {\n",
              "        vertical-align: middle;\n",
              "    }\n",
              "\n",
              "    .dataframe tbody tr th {\n",
              "        vertical-align: top;\n",
              "    }\n",
              "\n",
              "    .dataframe thead th {\n",
              "        text-align: right;\n",
              "    }\n",
              "</style>\n",
              "<table border=\"1\" class=\"dataframe\">\n",
              "  <thead>\n",
              "    <tr style=\"text-align: right;\">\n",
              "      <th></th>\n",
              "      <th>ID</th>\n",
              "      <th>hr</th>\n",
              "      <th>temp</th>\n",
              "      <th>labels</th>\n",
              "    </tr>\n",
              "  </thead>\n",
              "  <tbody>\n",
              "    <tr>\n",
              "      <th>420</th>\n",
              "      <td>0</td>\n",
              "      <td>0.385214</td>\n",
              "      <td>0.931318</td>\n",
              "      <td>0</td>\n",
              "    </tr>\n",
              "    <tr>\n",
              "      <th>421</th>\n",
              "      <td>0</td>\n",
              "      <td>0.385324</td>\n",
              "      <td>0.944449</td>\n",
              "      <td>0</td>\n",
              "    </tr>\n",
              "    <tr>\n",
              "      <th>422</th>\n",
              "      <td>0</td>\n",
              "      <td>0.385379</td>\n",
              "      <td>0.931549</td>\n",
              "      <td>0</td>\n",
              "    </tr>\n",
              "    <tr>\n",
              "      <th>423</th>\n",
              "      <td>0</td>\n",
              "      <td>0.385708</td>\n",
              "      <td>0.943600</td>\n",
              "      <td>0</td>\n",
              "    </tr>\n",
              "    <tr>\n",
              "      <th>424</th>\n",
              "      <td>0</td>\n",
              "      <td>0.386531</td>\n",
              "      <td>0.930776</td>\n",
              "      <td>0</td>\n",
              "    </tr>\n",
              "  </tbody>\n",
              "</table>\n",
              "</div>"
            ],
            "text/plain": [
              "     ID        hr      temp  labels\n",
              "420   0  0.385214  0.931318       0\n",
              "421   0  0.385324  0.944449       0\n",
              "422   0  0.385379  0.931549       0\n",
              "423   0  0.385708  0.943600       0\n",
              "424   0  0.386531  0.930776       0"
            ]
          },
          "execution_count": 11,
          "metadata": {},
          "output_type": "execute_result"
        }
      ],
      "source": [
        "scaler = MinMaxScaler()\n",
        "columns_to_scale = ['hr', 'temp']\n",
        "scaled_df = df.copy(deep=True)\n",
        "scaled_df[['hr', 'temp']] = scaler.fit_transform(scaled_df[['hr', 'temp']])\n",
        "scaled_df.head()"
      ]
    },
    {
      "cell_type": "code",
      "execution_count": 13,
      "metadata": {
        "id": "AnjPMlqHmDEK"
      },
      "outputs": [],
      "source": [
        "output_folder = 'C:/Users/aless/OneDrive - Università degli Studi di Catania/tesi/dataset/gaf_imgs'\n",
        "if not os.path.exists(output_folder):\n",
        "    os.makedirs(output_folder)\n",
        "\n",
        "def apply_gaf_transformation(data_array, filename):\n",
        "    transformer = GramianAngularField(image_size=250, sample_range=(0, 1))\n",
        "    img = transformer.fit_transform(data_array)\n",
        "\n",
        "    gaf = np.concatenate((img, np.zeros((1,250,250))), axis=0)\n",
        "\n",
        "    gaf_img = (gaf * 255).astype(np.uint8)\n",
        "    gaf_img = np.transpose(gaf_img, (1,2,0))\n",
        "    pil_img = Image.fromarray(gaf_img)\n",
        "    pil_img.save(filename)"
      ]
    },
    {
      "cell_type": "code",
      "execution_count": 14,
      "metadata": {
        "id": "OAz4L-XUnQWY"
      },
      "outputs": [],
      "source": [
        "for i in scaled_df['ID'].unique():\n",
        "    for label in [0, 1]:\n",
        "        df = scaled_df[(scaled_df['ID'] == i) & (scaled_df['labels'] == label)]\n",
        "        array = df[['hr', 'temp']].values\n",
        "        array = np.transpose(array)\n",
        "\n",
        "        label_folder = os.path.join(output_folder, f'label_{label}')\n",
        "        if not os.path.exists(label_folder):\n",
        "            os.makedirs(label_folder)\n",
        "\n",
        "        filename = os.path.join(label_folder, f'img_{i}.jpg')\n",
        "\n",
        "        apply_gaf_transformation(array, filename)"
      ]
    }
  ],
  "metadata": {
    "accelerator": "GPU",
    "colab": {
      "gpuType": "T4",
      "provenance": []
    },
    "kernelspec": {
      "display_name": "Python 3",
      "name": "python3"
    },
    "language_info": {
      "codemirror_mode": {
        "name": "ipython",
        "version": 3
      },
      "file_extension": ".py",
      "mimetype": "text/x-python",
      "name": "python",
      "nbconvert_exporter": "python",
      "pygments_lexer": "ipython3",
      "version": "3.11.4"
    }
  },
  "nbformat": 4,
  "nbformat_minor": 0
}
